{
 "cells": [
  {
   "cell_type": "markdown",
   "metadata": {},
   "source": [
    "# Spotify Lyrics\n",
    "\n",
    "Tonight we're going to enrich the [Top Spotify Tracks of 2017](https://www.kaggle.com/nadintamer/top-tracks-of-2017) dataset with lyrics from the [Lyrics API](https://lyricsovh.docs.apiary.io)"
   ]
  },
  {
   "cell_type": "markdown",
   "metadata": {},
   "source": [
    "❓ Start loading `requests`, `numpy` and `pandas` the usual way"
   ]
  },
  {
   "cell_type": "code",
   "execution_count": null,
   "metadata": {},
   "outputs": [],
   "source": []
  },
  {
   "cell_type": "markdown",
   "metadata": {},
   "source": [
    "❓ Load the `tracks.csv` file into a `tracks_df` variable (the CSV file is in the _same_ directory as this notebook)."
   ]
  },
  {
   "cell_type": "code",
   "execution_count": null,
   "metadata": {},
   "outputs": [],
   "source": []
  },
  {
   "cell_type": "markdown",
   "metadata": {},
   "source": [
    "❓ Get familiar with the dataset with the usual `.shape`, `.info()`, `.head()`, etc."
   ]
  },
  {
   "cell_type": "code",
   "execution_count": null,
   "metadata": {},
   "outputs": [],
   "source": []
  },
  {
   "cell_type": "markdown",
   "metadata": {},
   "source": [
    "---\n",
    "\n",
    "## First contact with the API\n",
    "\n",
    "The goal is now to **add an additional column `Lyrics`** to the `DataFrame` thanks to the [Lyrics API](https://lyricsovh.docs.apiary.io/)\n",
    "\n",
    "❓ Read the documentation and perform an API call with your browser for a song you like."
   ]
  },
  {
   "cell_type": "markdown",
   "metadata": {},
   "source": [
    "❓ Use `requests` to perform an API call with Python"
   ]
  },
  {
   "cell_type": "code",
   "execution_count": null,
   "metadata": {},
   "outputs": [],
   "source": []
  },
  {
   "cell_type": "markdown",
   "metadata": {},
   "source": [
    "❓ Create a function `fetch_lyrics(artists, title)` which encapsulate the behavior from the cell above 👆\n",
    "\n",
    "❓ Make sure you handle the `404` error (no lyrics found for the song)\n",
    "\n",
    "❓ You may use this to _escape_ the parameters in the URL\n",
    "\n",
    "```python\n",
    "from urllib.parse import quote\n",
    "quote(something)\n",
    "```"
   ]
  },
  {
   "cell_type": "code",
   "execution_count": null,
   "metadata": {},
   "outputs": [],
   "source": []
  },
  {
   "cell_type": "markdown",
   "metadata": {},
   "source": [
    "---\n",
    "\n",
    "## Enriching the dataset\n",
    "\n",
    "❓ Time to use the `fetch_lyrics` to create that new `Lyrics` column on `tracks_df`!\n",
    "\n",
    "<details>\n",
    "    <summary>💡 <strong>Hint</strong> - Click to reveal</summary>\n",
    "    Try using the following <code>DataFrame</code> functions: <a href=\"https://pandas.pydata.org/pandas-docs/stable/reference/api/pandas.DataFrame.iterrows.html\"><code>iterrows()</code></a> (<a href=\"https://stackoverflow.com/a/23146038\">example</a>) and\n",
    "    <a href=\"https://pandas.pydata.org/pandas-docs/stable/reference/api/pandas.DataFrame.at.html\"><code>at[index, column]</code></a>\n",
    "</details>\n"
   ]
  },
  {
   "cell_type": "code",
   "execution_count": null,
   "metadata": {},
   "outputs": [],
   "source": []
  },
  {
   "cell_type": "markdown",
   "metadata": {},
   "source": [
    "❓ **[BONUS]** Which songs talk about `love`?\n",
    "\n",
    "<details>\n",
    "    <summary>💡 <strong>Hint</strong> - Click to reveal</summary>\n",
    "    Use <em>Boolean Indexing</em> with <a href=\"https://pandas.pydata.org/pandas-docs/stable/reference/api/pandas.DataFrame.iterrows.html\"><code>pandas.Series.str.contains()</code></a>!\n",
    "</details>\n"
   ]
  },
  {
   "cell_type": "code",
   "execution_count": null,
   "metadata": {},
   "outputs": [],
   "source": []
  }
 ],
 "metadata": {
  "kernelspec": {
   "display_name": "Python 3",
   "language": "python",
   "name": "python3"
  },
  "language_info": {
   "codemirror_mode": {
    "name": "ipython",
    "version": 3
   },
   "file_extension": ".py",
   "mimetype": "text/x-python",
   "name": "python",
   "nbconvert_exporter": "python",
   "pygments_lexer": "ipython3",
   "version": "3.7.6"
  }
 },
 "nbformat": 4,
 "nbformat_minor": 2
}
